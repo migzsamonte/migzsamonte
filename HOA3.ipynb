{
  "nbformat": 4,
  "nbformat_minor": 0,
  "metadata": {
    "colab": {
      "provenance": [],
      "authorship_tag": "ABX9TyOV6owA7aiNwUKxwg5lYPdg",
      "include_colab_link": true
    },
    "kernelspec": {
      "name": "python3",
      "display_name": "Python 3"
    },
    "language_info": {
      "name": "python"
    }
  },
  "cells": [
    {
      "cell_type": "markdown",
      "metadata": {
        "id": "view-in-github",
        "colab_type": "text"
      },
      "source": [
        "<a href=\"https://colab.research.google.com/github/migzsamonte/migzsamonte/blob/main/Untitled1.ipynb\" target=\"_parent\"><img src=\"https://colab.research.google.com/assets/colab-badge.svg\" alt=\"Open In Colab\"/></a>"
      ]
    },
    {
      "cell_type": "markdown",
      "source": [
        "BUILT IN FUNCTIONS"
      ],
      "metadata": {
        "id": "IIJL09I6IeV2"
      }
    },
    {
      "cell_type": "code",
      "source": [
        "max('Hello world')"
      ],
      "metadata": {
        "colab": {
          "base_uri": "https://localhost:8080/",
          "height": 35
        },
        "id": "m-8hnh8jFRoJ",
        "outputId": "717e6341-c02f-4e22-a570-985471a61cc1"
      },
      "execution_count": 28,
      "outputs": [
        {
          "output_type": "execute_result",
          "data": {
            "text/plain": [
              "'w'"
            ],
            "application/vnd.google.colaboratory.intrinsic+json": {
              "type": "string"
            }
          },
          "metadata": {},
          "execution_count": 28
        }
      ]
    },
    {
      "cell_type": "code",
      "source": [
        "min('Hello world')"
      ],
      "metadata": {
        "colab": {
          "base_uri": "https://localhost:8080/",
          "height": 35
        },
        "id": "8DDaHWkPFuog",
        "outputId": "ee8372df-ba40-4901-e5ee-e1cd9a1a50f4"
      },
      "execution_count": 29,
      "outputs": [
        {
          "output_type": "execute_result",
          "data": {
            "text/plain": [
              "' '"
            ],
            "application/vnd.google.colaboratory.intrinsic+json": {
              "type": "string"
            }
          },
          "metadata": {},
          "execution_count": 29
        }
      ]
    },
    {
      "cell_type": "code",
      "source": [
        "len('Hello world')"
      ],
      "metadata": {
        "colab": {
          "base_uri": "https://localhost:8080/"
        },
        "id": "FfvjZK8MF7qW",
        "outputId": "8039f4c1-b248-4b1c-98ef-b3f4a3b19709"
      },
      "execution_count": 30,
      "outputs": [
        {
          "output_type": "execute_result",
          "data": {
            "text/plain": [
              "11"
            ]
          },
          "metadata": {},
          "execution_count": 30
        }
      ]
    },
    {
      "cell_type": "markdown",
      "source": [
        "TYPE CONVERSTION FUNCTIONS"
      ],
      "metadata": {
        "id": "0CCXmgWEIlql"
      }
    },
    {
      "cell_type": "code",
      "source": [
        "int('32')"
      ],
      "metadata": {
        "colab": {
          "base_uri": "https://localhost:8080/"
        },
        "id": "6O1DoHrjF-Ln",
        "outputId": "4f1ee8bc-9f3c-436b-9fb2-0bc3e8aaf819"
      },
      "execution_count": 31,
      "outputs": [
        {
          "output_type": "execute_result",
          "data": {
            "text/plain": [
              "32"
            ]
          },
          "metadata": {},
          "execution_count": 31
        }
      ]
    },
    {
      "cell_type": "code",
      "source": [
        "int('Hello')"
      ],
      "metadata": {
        "colab": {
          "base_uri": "https://localhost:8080/",
          "height": 141
        },
        "id": "CdtF61maGId4",
        "outputId": "b023cd5e-6cc3-441b-807b-632bb0dbbe0f"
      },
      "execution_count": 34,
      "outputs": [
        {
          "output_type": "error",
          "ename": "ValueError",
          "evalue": "invalid literal for int() with base 10: 'Hello'",
          "traceback": [
            "\u001b[0;31m---------------------------------------------------------------------------\u001b[0m",
            "\u001b[0;31mValueError\u001b[0m                                Traceback (most recent call last)",
            "\u001b[0;32m<ipython-input-34-6765ce49acfe>\u001b[0m in \u001b[0;36m<cell line: 0>\u001b[0;34m()\u001b[0m\n\u001b[0;32m----> 1\u001b[0;31m \u001b[0mint\u001b[0m\u001b[0;34m(\u001b[0m\u001b[0;34m'Hello'\u001b[0m\u001b[0;34m)\u001b[0m\u001b[0;34m\u001b[0m\u001b[0;34m\u001b[0m\u001b[0m\n\u001b[0m",
            "\u001b[0;31mValueError\u001b[0m: invalid literal for int() with base 10: 'Hello'"
          ]
        }
      ]
    },
    {
      "cell_type": "code",
      "source": [
        "int( 6.5)"
      ],
      "metadata": {
        "colab": {
          "base_uri": "https://localhost:8080/"
        },
        "id": "Rou5tJafGoDe",
        "outputId": "f72e67a3-da4a-4275-9b12-84029f84624f"
      },
      "execution_count": 36,
      "outputs": [
        {
          "output_type": "execute_result",
          "data": {
            "text/plain": [
              "6"
            ]
          },
          "metadata": {},
          "execution_count": 36
        }
      ]
    },
    {
      "cell_type": "code",
      "source": [
        "int(-5.6)"
      ],
      "metadata": {
        "colab": {
          "base_uri": "https://localhost:8080/"
        },
        "id": "ADCVg7pzGyRm",
        "outputId": "bb46a24c-87b3-4357-8abc-0e6239e9341b"
      },
      "execution_count": 37,
      "outputs": [
        {
          "output_type": "execute_result",
          "data": {
            "text/plain": [
              "-5"
            ]
          },
          "metadata": {},
          "execution_count": 37
        }
      ]
    },
    {
      "cell_type": "code",
      "source": [
        "float(32)"
      ],
      "metadata": {
        "colab": {
          "base_uri": "https://localhost:8080/"
        },
        "id": "TQn8t5sKG1ee",
        "outputId": "143c12ad-54ec-4a94-8a18-547753ec70d2"
      },
      "execution_count": 38,
      "outputs": [
        {
          "output_type": "execute_result",
          "data": {
            "text/plain": [
              "32.0"
            ]
          },
          "metadata": {},
          "execution_count": 38
        }
      ]
    },
    {
      "cell_type": "code",
      "source": [
        "float('3.14159')"
      ],
      "metadata": {
        "colab": {
          "base_uri": "https://localhost:8080/"
        },
        "id": "JNpeBHU9G-MY",
        "outputId": "9c0280d4-b564-46af-c251-1e91d821c366"
      },
      "execution_count": 39,
      "outputs": [
        {
          "output_type": "execute_result",
          "data": {
            "text/plain": [
              "3.14159"
            ]
          },
          "metadata": {},
          "execution_count": 39
        }
      ]
    },
    {
      "cell_type": "code",
      "source": [
        "str(32)"
      ],
      "metadata": {
        "colab": {
          "base_uri": "https://localhost:8080/",
          "height": 35
        },
        "id": "d34SU5_EHA5p",
        "outputId": "9173c322-c7f3-449e-b0ba-ccb11f2915a6"
      },
      "execution_count": 40,
      "outputs": [
        {
          "output_type": "execute_result",
          "data": {
            "text/plain": [
              "'32'"
            ],
            "application/vnd.google.colaboratory.intrinsic+json": {
              "type": "string"
            }
          },
          "metadata": {},
          "execution_count": 40
        }
      ]
    },
    {
      "cell_type": "code",
      "source": [
        "str(1.23456)"
      ],
      "metadata": {
        "colab": {
          "base_uri": "https://localhost:8080/",
          "height": 35
        },
        "id": "MS2xh_EvHE5W",
        "outputId": "4032ae9a-dd92-4701-b33e-e554b4af6e04"
      },
      "execution_count": 42,
      "outputs": [
        {
          "output_type": "execute_result",
          "data": {
            "text/plain": [
              "'1.23456'"
            ],
            "application/vnd.google.colaboratory.intrinsic+json": {
              "type": "string"
            }
          },
          "metadata": {},
          "execution_count": 42
        }
      ]
    },
    {
      "cell_type": "markdown",
      "source": [
        "MATH FUNCTIONS"
      ],
      "metadata": {
        "id": "uVCeG8V7IxJN"
      }
    },
    {
      "cell_type": "code",
      "source": [
        "import math\n",
        "\n",
        "print(math)"
      ],
      "metadata": {
        "colab": {
          "base_uri": "https://localhost:8080/"
        },
        "id": "SGwTWmjVHMI2",
        "outputId": "639a14d4-2b5f-44cd-fc66-2258810437bd"
      },
      "execution_count": 45,
      "outputs": [
        {
          "output_type": "stream",
          "name": "stdout",
          "text": [
            "<module 'math' (built-in)>\n"
          ]
        }
      ]
    },
    {
      "cell_type": "code",
      "source": [
        "degrees = 45\n",
        "radians = degrees / 360.0 * 2 * math.pi\n",
        "math.sin(radians)"
      ],
      "metadata": {
        "colab": {
          "base_uri": "https://localhost:8080/"
        },
        "id": "aBWDT5j9Hv7H",
        "outputId": "083e8099-4e37-42f1-ca4c-84b0b84bcc12"
      },
      "execution_count": 48,
      "outputs": [
        {
          "output_type": "execute_result",
          "data": {
            "text/plain": [
              "0.7071067811865475"
            ]
          },
          "metadata": {},
          "execution_count": 48
        }
      ]
    },
    {
      "cell_type": "code",
      "source": [
        "math.sqrt(2) / 2.0\n"
      ],
      "metadata": {
        "colab": {
          "base_uri": "https://localhost:8080/"
        },
        "id": "Vrgz4hJ7H3Pm",
        "outputId": "16e38ba0-811d-4522-9433-f5f931cc950a"
      },
      "execution_count": 49,
      "outputs": [
        {
          "output_type": "execute_result",
          "data": {
            "text/plain": [
              "0.7071067811865476"
            ]
          },
          "metadata": {},
          "execution_count": 49
        }
      ]
    },
    {
      "cell_type": "markdown",
      "source": [
        "RANDOM NUMBERS"
      ],
      "metadata": {
        "id": "hm7UQbMzI3e8"
      }
    },
    {
      "cell_type": "code",
      "source": [
        "import random\n",
        "\n",
        "for i in range(10):\n",
        "    x = random.random()\n",
        "    print(x)\n"
      ],
      "metadata": {
        "colab": {
          "base_uri": "https://localhost:8080/"
        },
        "id": "uAaSeESNH8Ot",
        "outputId": "2753fc79-eeb8-4eb0-f9de-19947a0a05d7"
      },
      "execution_count": 50,
      "outputs": [
        {
          "output_type": "stream",
          "name": "stdout",
          "text": [
            "0.9651255346827299\n",
            "0.5955555589833429\n",
            "0.4104390499301721\n",
            "0.8835654394667956\n",
            "0.6505419814385266\n",
            "0.9323807532765745\n",
            "0.5413529801999876\n",
            "0.6394392650025399\n",
            "0.16527345069962252\n",
            "0.9130997372067958\n"
          ]
        }
      ]
    },
    {
      "cell_type": "markdown",
      "source": [
        "EXERCISE 1"
      ],
      "metadata": {
        "id": "o7hO7jf1Brrh"
      }
    },
    {
      "cell_type": "code",
      "execution_count": 18,
      "metadata": {
        "colab": {
          "base_uri": "https://localhost:8080/"
        },
        "id": "QO04zSPgAalD",
        "outputId": "e8def958-fff2-484b-cab1-30dda9337d2d"
      },
      "outputs": [
        {
          "output_type": "execute_result",
          "data": {
            "text/plain": [
              "1"
            ]
          },
          "metadata": {},
          "execution_count": 18
        }
      ],
      "source": [
        "random.randint(1, 5)\n",
        "random.randint(1, 5)\n"
      ]
    },
    {
      "cell_type": "code",
      "source": [
        "t = [1, 2, 3]\n",
        "random.choice(t)\n",
        "random.choice(t)"
      ],
      "metadata": {
        "colab": {
          "base_uri": "https://localhost:8080/"
        },
        "id": "BL7gW380BwRX",
        "outputId": "f1ca9d7a-b47d-4f95-f7c2-0d83a187be89"
      },
      "execution_count": 11,
      "outputs": [
        {
          "output_type": "execute_result",
          "data": {
            "text/plain": [
              "1"
            ]
          },
          "metadata": {},
          "execution_count": 11
        }
      ]
    },
    {
      "cell_type": "markdown",
      "source": [
        "ADDING NEW FUNCTIONS"
      ],
      "metadata": {
        "id": "NQdvJCERJBn-"
      }
    },
    {
      "cell_type": "code",
      "source": [
        "def print_lyrics():\n",
        "    print(\"I'm a lumberjack, and I'm okay.\")\n",
        "    print('I sleep all night and I work all day.')\n",
        "print(print_lyrics)\n",
        "print(type(print_lyrics))\n",
        "print_lyrics()"
      ],
      "metadata": {
        "colab": {
          "base_uri": "https://localhost:8080/"
        },
        "id": "xuzF7qroI799",
        "outputId": "061799b2-8307-4027-e565-a92b7a6c0818"
      },
      "execution_count": 54,
      "outputs": [
        {
          "output_type": "stream",
          "name": "stdout",
          "text": [
            "<function print_lyrics at 0x78787130c540>\n",
            "<class 'function'>\n",
            "I'm a lumberjack, and I'm okay.\n",
            "I sleep all night and I work all day.\n"
          ]
        }
      ]
    },
    {
      "cell_type": "code",
      "source": [
        "def repeat_lyrics():\n",
        "    print_lyrics()\n",
        "    print_lyrics()\n",
        "repeat_lyrics()"
      ],
      "metadata": {
        "colab": {
          "base_uri": "https://localhost:8080/"
        },
        "id": "xUvD-WM0JmnO",
        "outputId": "ee3b21aa-6328-4486-ca72-cbca9465d7f6"
      },
      "execution_count": 55,
      "outputs": [
        {
          "output_type": "stream",
          "name": "stdout",
          "text": [
            "I'm a lumberjack, and I'm okay.\n",
            "I sleep all night and I work all day.\n",
            "I'm a lumberjack, and I'm okay.\n",
            "I sleep all night and I work all day.\n"
          ]
        }
      ]
    },
    {
      "cell_type": "code",
      "source": [
        "def print_lyrics():\n",
        "    print(\"I'm a lumberjack, and I'm okay.\")\n",
        "    print('I sleep all night and I work all day.')\n",
        "\n",
        "def repeat_lyrics():\n",
        "    print_lyrics()\n",
        "    print_lyrics()\n",
        "\n",
        "repeat_lyrics()\n"
      ],
      "metadata": {
        "colab": {
          "base_uri": "https://localhost:8080/"
        },
        "id": "wnz7CjhQJtgG",
        "outputId": "362cf8a7-a303-44bd-d821-bb8c2996ceae"
      },
      "execution_count": 56,
      "outputs": [
        {
          "output_type": "stream",
          "name": "stdout",
          "text": [
            "I'm a lumberjack, and I'm okay.\n",
            "I sleep all night and I work all day.\n",
            "I'm a lumberjack, and I'm okay.\n",
            "I sleep all night and I work all day.\n"
          ]
        }
      ]
    },
    {
      "cell_type": "code",
      "source": [
        "EXERCISE 2"
      ],
      "metadata": {
        "id": "NpFD6rYlJ4H9"
      },
      "execution_count": null,
      "outputs": []
    },
    {
      "cell_type": "code",
      "source": [
        "repeat_lyrics()\n",
        "\n",
        "def print_lyrics():\n",
        "    print(\"I'm a lumberjack, and I'm okay.\")\n",
        "    print('I sleep all night and I work all day.')\n",
        "\n",
        "def repeat_lyrics():\n",
        "    print_lyrics()\n",
        "    print_lyrics()"
      ],
      "metadata": {
        "colab": {
          "base_uri": "https://localhost:8080/"
        },
        "id": "3G1yb1mRKING",
        "outputId": "2d75562c-027c-4f47-a050-58aa05701353"
      },
      "execution_count": 57,
      "outputs": [
        {
          "output_type": "stream",
          "name": "stdout",
          "text": [
            "I'm a lumberjack, and I'm okay.\n",
            "I sleep all night and I work all day.\n",
            "I'm a lumberjack, and I'm okay.\n",
            "I sleep all night and I work all day.\n"
          ]
        }
      ]
    },
    {
      "cell_type": "markdown",
      "source": [
        "EXERCISE 3"
      ],
      "metadata": {
        "id": "TarGMgcxKoA1"
      }
    },
    {
      "cell_type": "code",
      "source": [
        "def repeat_lyrics():\n",
        "    print_lyrics()\n",
        "    print_lyrics()\n",
        "\n",
        "def print_lyrics():\n",
        "    print(\"I'm a lumberjack, and I'm okay.\")\n",
        "    print('I sleep all night and I work all day.')\n",
        "\n",
        "repeat_lyrics()"
      ],
      "metadata": {
        "colab": {
          "base_uri": "https://localhost:8080/"
        },
        "id": "B5BHBxxSKUy1",
        "outputId": "5e585fac-7fdf-4d2b-97d2-1fc8ae751122"
      },
      "execution_count": 59,
      "outputs": [
        {
          "output_type": "stream",
          "name": "stdout",
          "text": [
            "I'm a lumberjack, and I'm okay.\n",
            "I sleep all night and I work all day.\n",
            "I'm a lumberjack, and I'm okay.\n",
            "I sleep all night and I work all day.\n"
          ]
        }
      ]
    },
    {
      "cell_type": "markdown",
      "source": [
        "PARAMETERS AND ARGUMENTS"
      ],
      "metadata": {
        "id": "BctzIlGpLELd"
      }
    },
    {
      "cell_type": "code",
      "source": [
        "print_twice('Miguel')"
      ],
      "metadata": {
        "colab": {
          "base_uri": "https://localhost:8080/"
        },
        "id": "9hOudgsWK9Fu",
        "outputId": "d69795e5-edae-4681-a4e3-c33aa676dbef"
      },
      "execution_count": 66,
      "outputs": [
        {
          "output_type": "stream",
          "name": "stdout",
          "text": [
            "Miguel\n",
            "Miguel\n"
          ]
        }
      ]
    },
    {
      "cell_type": "code",
      "source": [
        "import math\n",
        "\n",
        "print_twice(math.pi)"
      ],
      "metadata": {
        "colab": {
          "base_uri": "https://localhost:8080/"
        },
        "id": "YUie_UzJLJd1",
        "outputId": "3ce290ee-40ea-4b6a-db7f-34ded40111d7"
      },
      "execution_count": 67,
      "outputs": [
        {
          "output_type": "stream",
          "name": "stdout",
          "text": [
            "3.141592653589793\n",
            "3.141592653589793\n"
          ]
        }
      ]
    },
    {
      "cell_type": "code",
      "source": [
        "print_twice('Miguel '*4)"
      ],
      "metadata": {
        "colab": {
          "base_uri": "https://localhost:8080/"
        },
        "id": "Ryt3WaOHLRlW",
        "outputId": "6f87ed03-9cae-4690-b00e-cf20b8002d64"
      },
      "execution_count": 70,
      "outputs": [
        {
          "output_type": "stream",
          "name": "stdout",
          "text": [
            "Miguel Miguel Miguel Miguel \n",
            "Miguel Miguel Miguel Miguel \n"
          ]
        }
      ]
    },
    {
      "cell_type": "code",
      "source": [
        "print_twice(math.cos(math.pi))"
      ],
      "metadata": {
        "colab": {
          "base_uri": "https://localhost:8080/"
        },
        "id": "a1IOWOQtLXid",
        "outputId": "2e005940-98bf-4385-fa81-ce6925e47a4d"
      },
      "execution_count": 69,
      "outputs": [
        {
          "output_type": "stream",
          "name": "stdout",
          "text": [
            "-1.0\n",
            "-1.0\n"
          ]
        }
      ]
    },
    {
      "cell_type": "code",
      "source": [
        "Miguel = 'Migz, the divine being.'\n",
        "print_twice(Miguel)"
      ],
      "metadata": {
        "colab": {
          "base_uri": "https://localhost:8080/"
        },
        "id": "i0Y7roliLb9n",
        "outputId": "df2ce843-9c88-4b52-c88f-b95aae921365"
      },
      "execution_count": 71,
      "outputs": [
        {
          "output_type": "stream",
          "name": "stdout",
          "text": [
            "Migz, the divine being.\n",
            "Migz, the divine being.\n"
          ]
        }
      ]
    },
    {
      "cell_type": "markdown",
      "source": [
        "FRUITFUL FUNCTIONS"
      ],
      "metadata": {
        "id": "kTwdmg7HL5Ab"
      }
    },
    {
      "cell_type": "code",
      "source": [
        "math.sqrt(28)\n"
      ],
      "metadata": {
        "colab": {
          "base_uri": "https://localhost:8080/"
        },
        "id": "ExR0z0yALx0V",
        "outputId": "3f49deb5-b073-4530-ee54-6747faac9fd7"
      },
      "execution_count": 74,
      "outputs": [
        {
          "output_type": "execute_result",
          "data": {
            "text/plain": [
              "5.291502622129181"
            ]
          },
          "metadata": {},
          "execution_count": 74
        }
      ]
    },
    {
      "cell_type": "markdown",
      "source": [
        "VOID FUNCTIONS"
      ],
      "metadata": {
        "id": "Rjf1B9orMFuG"
      }
    },
    {
      "cell_type": "code",
      "source": [
        "result = print_twice('kousei')"
      ],
      "metadata": {
        "colab": {
          "base_uri": "https://localhost:8080/"
        },
        "id": "VyWkagFeL99R",
        "outputId": "2bf2d040-a404-45fc-bfd3-d16e2361dd70"
      },
      "execution_count": 75,
      "outputs": [
        {
          "output_type": "stream",
          "name": "stdout",
          "text": [
            "kousei\n",
            "kousei\n"
          ]
        }
      ]
    },
    {
      "cell_type": "code",
      "source": [
        "print(result)\n",
        "print(type(None))"
      ],
      "metadata": {
        "colab": {
          "base_uri": "https://localhost:8080/"
        },
        "id": "7Lsoo9pqMQuF",
        "outputId": "b385e53e-5905-473b-acb6-4dcd641fed49"
      },
      "execution_count": 77,
      "outputs": [
        {
          "output_type": "stream",
          "name": "stdout",
          "text": [
            "None\n",
            "<class 'NoneType'>\n"
          ]
        }
      ]
    },
    {
      "cell_type": "code",
      "source": [
        "def addtwo(a, b):\n",
        "    added = a + b\n",
        "    return added\n",
        "\n",
        "x = addtwo(28, 9)\n",
        "print(x)\n"
      ],
      "metadata": {
        "colab": {
          "base_uri": "https://localhost:8080/"
        },
        "id": "ByaL18d0MSZf",
        "outputId": "8c2d0862-2197-4052-fcbc-1c402a92334d"
      },
      "execution_count": 79,
      "outputs": [
        {
          "output_type": "stream",
          "name": "stdout",
          "text": [
            "37\n"
          ]
        }
      ]
    },
    {
      "cell_type": "code",
      "source": [
        "def fred():\n",
        "   print(\"Zap\")\n",
        "\n",
        "def jane():\n",
        "   print(\"ABC\")\n",
        "\n",
        "jane()\n",
        "fred()\n",
        "jane()\n"
      ],
      "metadata": {
        "colab": {
          "base_uri": "https://localhost:8080/"
        },
        "id": "XfYgdH58Mfl-",
        "outputId": "6404e9b9-cc4e-4156-d7fa-bbd1c4661d59"
      },
      "execution_count": 80,
      "outputs": [
        {
          "output_type": "stream",
          "name": "stdout",
          "text": [
            "ABC\n",
            "Zap\n",
            "ABC\n"
          ]
        }
      ]
    },
    {
      "cell_type": "markdown",
      "source": [
        "EXCERCISE 6\n",
        "\n",
        "A."
      ],
      "metadata": {
        "id": "7edtrbkeTes0"
      }
    },
    {
      "cell_type": "code",
      "source": [
        "def compute_gross_pay(hours, rate):\n",
        "  return hours * rate\n",
        "\n",
        "hours = float(input(\"Enter Hours: \"))\n",
        "rate = float(input(\"Enter Rate: \"))\n",
        "pay = compute_gross_pay(hours, rate)\n",
        "print(\"Pay:\", pay)"
      ],
      "metadata": {
        "colab": {
          "base_uri": "https://localhost:8080/"
        },
        "id": "AUG75V3vTGXf",
        "outputId": "81ad5ed1-f791-4cbc-f3f0-e6048ec1aa0d"
      },
      "execution_count": 83,
      "outputs": [
        {
          "output_type": "stream",
          "name": "stdout",
          "text": [
            "Enter Hours: 35\n",
            "Enter Rate: 2.75\n",
            "Pay: 96.25\n"
          ]
        }
      ]
    },
    {
      "cell_type": "markdown",
      "source": [
        "B."
      ],
      "metadata": {
        "id": "Rwj5_LHSTww0"
      }
    },
    {
      "cell_type": "code",
      "source": [
        "def computepay(hours, rate):\n",
        "    if hours > 40:\n",
        "        return (40 * rate) + (hours - 40) * rate * 1.5\n",
        "    else:\n",
        "        return hours * rate\n",
        "\n",
        "hours = float(input(\"Enter Hours: \"))\n",
        "rate = float(input(\"Enter Rate: \"))\n",
        "pay = computepay(hrs, rte)\n",
        "print(\"Pay\", p)\n"
      ],
      "metadata": {
        "colab": {
          "base_uri": "https://localhost:8080/"
        },
        "id": "pNp3VApXTkTB",
        "outputId": "9d5daf8d-6136-479a-b9ac-ae342bff9f29"
      },
      "execution_count": 84,
      "outputs": [
        {
          "output_type": "stream",
          "name": "stdout",
          "text": [
            "Enter Hours: 45\n",
            "Enter Rate: 10\n",
            "Pay 475.0\n"
          ]
        }
      ]
    },
    {
      "cell_type": "markdown",
      "source": [
        "EXERCISE 7\n",
        "\n",
        "A."
      ],
      "metadata": {
        "id": "8wV4nopYUUkz"
      }
    },
    {
      "cell_type": "code",
      "source": [
        "def compute_grade(score):\n",
        "    try:\n",
        "        score = float(score)\n",
        "        if 0.0 <= score <= 1.0:\n",
        "            if score >= 0.9:\n",
        "                return 'A'\n",
        "            elif score >= 0.8:\n",
        "                return 'B'\n",
        "            elif score >= 0.7:\n",
        "                return 'C'\n",
        "            elif score >= 0.6:\n",
        "                return 'D'\n",
        "            else:\n",
        "                return 'F'\n",
        "        else:\n",
        "            return 'Bad score'\n",
        "    except ValueError:\n",
        "        return 'Bad score'\n",
        "\n",
        "while True:\n",
        "    score = input('Enter score: ')\n",
        "    if score.lower() == 'q':\n",
        "      break\n",
        "    grade = compute_grade(score)\n",
        "    print(grade)"
      ],
      "metadata": {
        "colab": {
          "base_uri": "https://localhost:8080/"
        },
        "id": "ZApcH1taTy0E",
        "outputId": "a3df3cea-f9e9-4f17-b50a-ee7062f1c1ca"
      },
      "execution_count": 86,
      "outputs": [
        {
          "name": "stdout",
          "output_type": "stream",
          "text": [
            "Enter score: 0.95\n",
            "A\n",
            "Enter score: Perfect\n",
            "Bad score\n",
            "Enter score: 10.0\n",
            "Bad score\n",
            "Enter score: 0.75\n",
            "C\n",
            "Enter score: 0.5\n",
            "F\n",
            "Enter score: q\n"
          ]
        }
      ]
    },
    {
      "cell_type": "markdown",
      "source": [
        "B."
      ],
      "metadata": {
        "id": "_W7E3GchUeYr"
      }
    },
    {
      "cell_type": "code",
      "source": [
        "def computegrade(score):\n",
        "    try:\n",
        "        score = float(score)\n",
        "        if 0.0 <= score <= 1.0:\n",
        "            if score >= 0.9: return 'A'\n",
        "            elif score >= 0.8: return 'B'\n",
        "            elif score >= 0.7: return 'C'\n",
        "            elif score >= 0.6: return 'D'\n",
        "            else: return 'F'\n",
        "        else:\n",
        "            return 'Bad score'\n",
        "    except ValueError:\n",
        "        return 'Bad score'\n",
        "\n",
        "while True:\n",
        "    s = input('Enter score: ')\n",
        "    if s.lower() == 'q': break\n",
        "    print(computegrade(s))"
      ],
      "metadata": {
        "colab": {
          "base_uri": "https://localhost:8080/"
        },
        "id": "hOJ8kCU5UZBz",
        "outputId": "fdea8b6b-4964-4365-fea7-08bba24c028e"
      },
      "execution_count": 88,
      "outputs": [
        {
          "name": "stdout",
          "output_type": "stream",
          "text": [
            "Enter score: 0.8\n",
            "B\n",
            "Enter score: Perfect\n",
            "Bad score\n",
            "Enter score: 0.98\n",
            "A\n",
            "Enter score: q\n"
          ]
        }
      ]
    }
  ]
}
