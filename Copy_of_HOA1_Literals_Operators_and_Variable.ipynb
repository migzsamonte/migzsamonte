{
  "nbformat": 4,
  "nbformat_minor": 0,
  "metadata": {
    "colab": {
      "provenance": [],
      "authorship_tag": "ABX9TyMIzBoAF0K1HPitYQfW/aLj",
      "include_colab_link": true
    },
    "kernelspec": {
      "name": "python3",
      "display_name": "Python 3"
    },
    "language_info": {
      "name": "python"
    }
  },
  "cells": [
    {
      "cell_type": "markdown",
      "metadata": {
        "id": "view-in-github",
        "colab_type": "text"
      },
      "source": [
        "<a href=\"https://colab.research.google.com/github/migzsamonte/migzsamonte/blob/main/Copy_of_HOA1_Literals_Operators_and_Variable.ipynb\" target=\"_parent\"><img src=\"https://colab.research.google.com/assets/colab-badge.svg\" alt=\"Open In Colab\"/></a>"
      ]
    },
    {
      "cell_type": "markdown",
      "source": [
        "Introduction to Python"
      ],
      "metadata": {
        "id": "bgiPV9hHxXVS"
      }
    },
    {
      "cell_type": "code",
      "execution_count": null,
      "metadata": {
        "colab": {
          "base_uri": "https://localhost:8080/"
        },
        "id": "0hxd3yzmxRC_",
        "outputId": "ca7efbcc-ff18-4849-d4ee-9aaa3b2d26a6"
      },
      "outputs": [
        {
          "output_type": "stream",
          "name": "stdout",
          "text": [
            "2\n"
          ]
        }
      ],
      "source": [
        "# 1.1 Assigning variables of different data types in Python\n",
        "# assignment operator is the = sign\n",
        "value = 2\n",
        "\n",
        "print(value)"
      ]
    },
    {
      "cell_type": "code",
      "source": [
        "from types import NoneType\n",
        "print(type(2+3j))\n",
        "print(type('Hello World'))\n",
        "print(type(\"Hello World\"))\n",
        "\n",
        "# Boolean means true or false / 1 or 0\n",
        "\n",
        "print(type(True))\n",
        "print(type(False))\n",
        "\n",
        "# Iterables -> Iterable inside\n",
        "print(type({1, 2, 3, 4, 5})) # list can be changed\n",
        "print(type((1, 2, 3, 4, 5,)))# tuples cannot be changed\n",
        "print(type({'name':'Miguel Samonte'}))\n",
        "print(type(None))\n",
        "\n",
        "value = 5\n",
        "value2 = -6"
      ],
      "metadata": {
        "colab": {
          "base_uri": "https://localhost:8080/"
        },
        "id": "3G-a-it6yLWy",
        "outputId": "be1f8534-38e4-44bd-9f0d-9e6a8c57e8a1"
      },
      "execution_count": null,
      "outputs": [
        {
          "output_type": "stream",
          "name": "stdout",
          "text": [
            "<class 'complex'>\n",
            "<class 'str'>\n",
            "<class 'str'>\n",
            "<class 'bool'>\n",
            "<class 'bool'>\n",
            "<class 'set'>\n",
            "<class 'tuple'>\n",
            "<class 'dict'>\n",
            "<class 'NoneType'>\n"
          ]
        }
      ]
    },
    {
      "cell_type": "code",
      "source": [
        "# Procedure 2\n",
        "# Performing Operations with Python\n",
        "\n",
        "print(value+value2)"
      ],
      "metadata": {
        "colab": {
          "base_uri": "https://localhost:8080/"
        },
        "id": "nABvPyNJ0ugq",
        "outputId": "bbabb567-7394-46bb-d278-955ba6dcdc31"
      },
      "execution_count": null,
      "outputs": [
        {
          "output_type": "stream",
          "name": "stdout",
          "text": [
            "-1\n"
          ]
        }
      ]
    },
    {
      "cell_type": "code",
      "source": [
        "value, value2 = 0.5, 6\n",
        "print(value+value2)"
      ],
      "metadata": {
        "colab": {
          "base_uri": "https://localhost:8080/"
        },
        "id": "CEzv9wDX0_9a",
        "outputId": "aae36217-c826-41f6-af52-74d4dc5e88da"
      },
      "execution_count": null,
      "outputs": [
        {
          "output_type": "stream",
          "name": "stdout",
          "text": [
            "6.5\n"
          ]
        }
      ]
    },
    {
      "cell_type": "code",
      "source": [
        "value, value2 = -0.5, -6.1\n",
        "print(value+value2)"
      ],
      "metadata": {
        "colab": {
          "base_uri": "https://localhost:8080/"
        },
        "id": "TpYOd6VT1nua",
        "outputId": "ea6620c1-9859-44fd-d36c-63dc636ceb3d"
      },
      "execution_count": null,
      "outputs": [
        {
          "output_type": "stream",
          "name": "stdout",
          "text": [
            "-6.6\n"
          ]
        }
      ]
    },
    {
      "cell_type": "code",
      "source": [
        "value, value2 = \" Hello\", 'World'\n",
        "print(value+value2)"
      ],
      "metadata": {
        "colab": {
          "base_uri": "https://localhost:8080/"
        },
        "id": "Cgfybmgh1P8c",
        "outputId": "80dcc2b8-f230-4483-8764-63880de72715"
      },
      "execution_count": null,
      "outputs": [
        {
          "output_type": "stream",
          "name": "stdout",
          "text": [
            " HelloWorld\n"
          ]
        }
      ]
    },
    {
      "cell_type": "code",
      "source": [
        "value, value2 = [1, 2, 3],[4, 5, 6]\n",
        "print(value+value2)"
      ],
      "metadata": {
        "colab": {
          "base_uri": "https://localhost:8080/"
        },
        "id": "uVqkBoT91vyq",
        "outputId": "417e09c1-0cd7-4355-bed5-5a12059fa6a5"
      },
      "execution_count": null,
      "outputs": [
        {
          "output_type": "stream",
          "name": "stdout",
          "text": [
            "[1, 2, 3, 4, 5, 6]\n"
          ]
        }
      ]
    },
    {
      "cell_type": "code",
      "source": [
        "value, value2 = (1, 2, 3),(4, 5, 6)\n",
        "print(value+value2)"
      ],
      "metadata": {
        "colab": {
          "base_uri": "https://localhost:8080/"
        },
        "id": "7mTDM0Lf18Uh",
        "outputId": "adc4ec29-621f-464a-b3fa-b1a21ac12e2c"
      },
      "execution_count": null,
      "outputs": [
        {
          "output_type": "stream",
          "name": "stdout",
          "text": [
            "(1, 2, 3, 4, 5, 6)\n"
          ]
        }
      ]
    },
    {
      "cell_type": "code",
      "source": [
        "value, value2 = {'Miguel':'Samonte'}, {'Age':18}\n",
        "print(value+value2)"
      ],
      "metadata": {
        "colab": {
          "base_uri": "https://localhost:8080/",
          "height": 162
        },
        "id": "QzE31UUE2Fbh",
        "outputId": "f2496411-16ed-4462-d014-491de155f814"
      },
      "execution_count": null,
      "outputs": [
        {
          "output_type": "error",
          "ename": "TypeError",
          "evalue": "unsupported operand type(s) for +: 'dict' and 'dict'",
          "traceback": [
            "\u001b[0;31m---------------------------------------------------------------------------\u001b[0m",
            "\u001b[0;31mTypeError\u001b[0m                                 Traceback (most recent call last)",
            "\u001b[0;32m<ipython-input-19-8c38a9080c90>\u001b[0m in \u001b[0;36m<cell line: 0>\u001b[0;34m()\u001b[0m\n\u001b[1;32m      1\u001b[0m \u001b[0mvalue\u001b[0m\u001b[0;34m,\u001b[0m \u001b[0mvalue2\u001b[0m \u001b[0;34m=\u001b[0m \u001b[0;34m{\u001b[0m\u001b[0;34m'Miguel'\u001b[0m\u001b[0;34m:\u001b[0m\u001b[0;34m'Samonte'\u001b[0m\u001b[0;34m}\u001b[0m\u001b[0;34m,\u001b[0m \u001b[0;34m{\u001b[0m\u001b[0;34m'Age'\u001b[0m\u001b[0;34m:\u001b[0m\u001b[0;36m18\u001b[0m\u001b[0;34m}\u001b[0m\u001b[0;34m\u001b[0m\u001b[0;34m\u001b[0m\u001b[0m\n\u001b[0;32m----> 2\u001b[0;31m \u001b[0mprint\u001b[0m\u001b[0;34m(\u001b[0m\u001b[0mvalue\u001b[0m\u001b[0;34m+\u001b[0m\u001b[0mvalue2\u001b[0m\u001b[0;34m)\u001b[0m\u001b[0;34m\u001b[0m\u001b[0;34m\u001b[0m\u001b[0m\n\u001b[0m",
            "\u001b[0;31mTypeError\u001b[0m: unsupported operand type(s) for +: 'dict' and 'dict'"
          ]
        }
      ]
    },
    {
      "cell_type": "code",
      "source": [
        "value, value2 = 30, 4\n",
        "\n",
        "print(value*value2)\n",
        "print(value2**2)\n",
        "print(value2**3)\n",
        "print(value * value2 + value2**2 + 1)\n",
        "print(value/value2)\n",
        "print(value%value2)\n"
      ],
      "metadata": {
        "colab": {
          "base_uri": "https://localhost:8080/"
        },
        "id": "epxsg1952V6J",
        "outputId": "95cd2693-1ec8-4174-b68f-33c7f3a30f10"
      },
      "execution_count": null,
      "outputs": [
        {
          "output_type": "stream",
          "name": "stdout",
          "text": [
            "120\n",
            "16\n",
            "64\n",
            "137\n",
            "7.5\n",
            "2\n"
          ]
        }
      ]
    },
    {
      "cell_type": "code",
      "source": [
        "# Procedure 3: Receiving input data using python\n",
        "name = input(\"What's your name?\")\n",
        "print(name)"
      ],
      "metadata": {
        "colab": {
          "base_uri": "https://localhost:8080/"
        },
        "id": "2EHQb96Y3K5R",
        "outputId": "096cb2cd-6b46-4a04-83e8-ea18dbd6c559"
      },
      "execution_count": null,
      "outputs": [
        {
          "output_type": "stream",
          "name": "stdout",
          "text": [
            "What's your name?Miguel Joshua Samonte\n",
            "Miguel Joshua Samonte\n"
          ]
        }
      ]
    },
    {
      "cell_type": "code",
      "source": [
        "# Procedure 3: Receiving input data using Python\n",
        "print(input(\"What's your name?\"))"
      ],
      "metadata": {
        "colab": {
          "base_uri": "https://localhost:8080/"
        },
        "id": "XBIRYSTY3yky",
        "outputId": "88583503-9cfc-4820-c999-2db7422b5464"
      },
      "execution_count": null,
      "outputs": [
        {
          "output_type": "stream",
          "name": "stdout",
          "text": [
            "What's your name?Miguel Joshua Samonte\n",
            "Miguel Joshua Samonte\n"
          ]
        }
      ]
    },
    {
      "source": [
        "# Procedure 4: Assigning Input Data to a Variable\n",
        "\n",
        "name = input(\"Enter your name: \")\n",
        "weight = float(input(\"Enter your weight(kg): \"))\n",
        "height = float(input(\"Enter your height(m): \"))\n",
        "\n",
        "bmi = weight / (height**2)\n",
        "\n",
        "# The built-in 'print' function has likely been overwritten.\n",
        "# Use the built-in print function by calling __builtins__.print or restart the kernel\n",
        "__builtins__.print(bmi)"
      ],
      "cell_type": "code",
      "metadata": {
        "colab": {
          "base_uri": "https://localhost:8080/"
        },
        "id": "kIWBrS-FEgtu",
        "outputId": "5d8d5f8a-71d7-4217-c43e-e3e01c54585a"
      },
      "execution_count": null,
      "outputs": [
        {
          "output_type": "stream",
          "name": "stdout",
          "text": [
            "Enter your name: Migz\n",
            "Enter your weight(kg): 170\n",
            "Enter your height(m): 1.71\n",
            "58.13754659553368\n"
          ]
        }
      ]
    },
    {
      "cell_type": "markdown",
      "source": [
        "Supplementary Activity"
      ],
      "metadata": {
        "id": "fnUbRZa_7Ty_"
      }
    },
    {
      "source": [
        "base = float(input(\"Enter triagle base:\"))\n",
        "height = float(input(\"Enter triangle height:\"))\n",
        "\n",
        "area = (1/2)*base*height\n",
        "\n",
        "print(\" The area of the triangle is: \" + str(area))"
      ],
      "cell_type": "code",
      "metadata": {
        "colab": {
          "base_uri": "https://localhost:8080/"
        },
        "id": "8nBBnsAkJwfE",
        "outputId": "24e4bc94-3aea-43e9-82de-ec04d872e307"
      },
      "execution_count": 51,
      "outputs": [
        {
          "output_type": "stream",
          "name": "stdout",
          "text": [
            "Enter triagle base:28\n",
            "Enter triangle height:22\n",
            " The area of the triangle is: 308.0\n"
          ]
        }
      ]
    },
    {
      "source": [
        "\n",
        "celcius = float(input(\"Enter temperature in celcius:\"))\n",
        "fahrenheit = (celcius*9.5) + 32\n",
        "\n",
        "print(\"Temperature in fahrenheit: \" + str(fahrenheit))"
      ],
      "cell_type": "code",
      "metadata": {
        "colab": {
          "base_uri": "https://localhost:8080/"
        },
        "id": "yqbqo4FSIvwB",
        "outputId": "d91aa70d-90eb-44b8-dc84-58dd3cde1e2e"
      },
      "execution_count": 49,
      "outputs": [
        {
          "output_type": "stream",
          "name": "stdout",
          "text": [
            "Enter temperature in celcius:70\n",
            "Temperature in fahrenheit: 697.0\n"
          ]
        }
      ]
    },
    {
      "source": [
        "import math\n",
        "\n",
        "def distance_between_points(x1, y1, x2, y2):\n",
        "    \"\"\"\n",
        "    Calculates the distance between two points in a 2D plane.\n",
        "\n",
        "    Args:\n",
        "        x1 (float): x-coordinate of the first point.\n",
        "        y1 (float): y-coordinate of the first point.\n",
        "        x2 (float): x-coordinate of the second point.\n",
        "        y2 (float): y-coordinate of the second point.\n",
        "\n",
        "    Returns:\n",
        "        float: The distance between the two points.\n",
        "    \"\"\"\n",
        "\n",
        "    distance = math.sqrt((x2 - x1)**2 + (y2 - y1)**2)\n",
        "    return distance\n",
        "\n",
        "x1 = 1\n",
        "y1 = 2\n",
        "x2 = 4\n",
        "y2 = 6\n",
        "\n",
        "distance = distance_between_points(x1, y1, x2, y2)\n",
        "__builtins__.print(f\"The distance between the points ({x1}, {y1}) and ({x2}, {y2}) is: {distance}\") # Use __builtins__.print to access the original print function"
      ],
      "cell_type": "code",
      "metadata": {
        "colab": {
          "base_uri": "https://localhost:8080/"
        },
        "id": "5Lko7mG2KWCc",
        "outputId": "4bdae0f6-a05e-40af-c799-ec350f40f115"
      },
      "execution_count": 53,
      "outputs": [
        {
          "output_type": "stream",
          "name": "stdout",
          "text": [
            "The distance between the points (1, 2) and (4, 6) is: 5.0\n"
          ]
        }
      ]
    }
  ]
}