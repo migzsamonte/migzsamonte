{
  "nbformat": 4,
  "nbformat_minor": 0,
  "metadata": {
    "colab": {
      "provenance": [],
      "authorship_tag": "ABX9TyPt/AsVb5IoSl844fsSo0hd",
      "include_colab_link": true
    },
    "kernelspec": {
      "name": "python3",
      "display_name": "Python 3"
    },
    "language_info": {
      "name": "python"
    }
  },
  "cells": [
    {
      "cell_type": "markdown",
      "metadata": {
        "id": "view-in-github",
        "colab_type": "text"
      },
      "source": [
        "<a href=\"https://colab.research.google.com/github/migzsamonte/migzsamonte/blob/main/EXERCISE_4_SAMONTE.ipynb\" target=\"_parent\"><img src=\"https://colab.research.google.com/assets/colab-badge.svg\" alt=\"Open In Colab\"/></a>"
      ]
    },
    {
      "cell_type": "markdown",
      "source": [
        "Exercise 4: Event Planning System\n",
        "\n",
        "Scenario: You are helping an event planner organize a series of events. The planner needs to manage guest lists and schedules effectively.\n",
        "\n",
        "    Task 1: Write a function factorial(n) that calculates the factorial of the number of guests to determine the possible seating arrangements. Use recursion to implement this function.\n",
        "    Task 2: Write a function fibonacci(n) that determines the sequence of events based on their importance (using the Fibonacci sequence to assign priorities). Use recursion to implement this function.\n",
        "    Task 3: Write a function total_guests(events) that sums up the total number of guests across multiple events.\n",
        "    Task 4: Create a main program that allows the event planner to input the number of guests for each event, and then calculates the possible seating arrangements and priorities of the events using the above functions. Display the results to help with planning.\n",
        "\n"
      ],
      "metadata": {
        "id": "YAsNFcj85rLx"
      }
    },
    {
      "cell_type": "markdown",
      "source": [
        "Task 1:\n"
      ],
      "metadata": {
        "id": "z1-DNC7x9YZY"
      }
    },
    {
      "cell_type": "code",
      "execution_count": 33,
      "metadata": {
        "colab": {
          "base_uri": "https://localhost:8080/"
        },
        "id": "47MLJxg05pmo",
        "outputId": "ee3a8014-0ce1-4f6a-8e34-8dce7ab82981"
      },
      "outputs": [
        {
          "output_type": "stream",
          "name": "stdout",
          "text": [
            "Enter the number of guests: 10\n",
            "3628800.0\n"
          ]
        }
      ],
      "source": [
        "def factorial(n):\n",
        "  n = float(n)\n",
        "  if n == 0:\n",
        "    return 1.0\n",
        "  else:\n",
        "    return n * factorial(n - 1)\n",
        "\n",
        "number_of_guest = float(input(\"Enter the number of guests: \"))\n",
        "print(factorial(number_of_guest))\n"
      ]
    },
    {
      "cell_type": "markdown",
      "source": [
        "Task 2:"
      ],
      "metadata": {
        "id": "xdEjWlzL9nqo"
      }
    },
    {
      "cell_type": "code",
      "source": [
        "def fibonacci(n):\n",
        "  if n <= 1:\n",
        "    return n\n",
        "  else:\n",
        "    return fibonacci(n - 1) + fibonacci(n - 2)\n",
        "\n",
        "num_guests = float(input(\"Enter the number of events: \"))\n",
        "\n",
        "# Calculating the Fibonacci sequence for integer values up to the given float\n",
        "for i in range(int(num_guests) + 1):\n",
        "  print(fibonacci(i), end=\" \")"
      ],
      "metadata": {
        "colab": {
          "base_uri": "https://localhost:8080/"
        },
        "id": "zMPOYfau9k8I",
        "outputId": "3a7d83ce-a717-4510-ca07-84b0e619b35a"
      },
      "execution_count": 30,
      "outputs": [
        {
          "output_type": "stream",
          "name": "stdout",
          "text": [
            "Enter the number of events: 5\n",
            "0 1 1 2 3 5 "
          ]
        }
      ]
    },
    {
      "cell_type": "markdown",
      "source": [
        "Task 3:"
      ],
      "metadata": {
        "id": "6MW29DPr_tDA"
      }
    },
    {
      "cell_type": "code",
      "source": [
        "def total_guests(events):\n",
        "  total = 0\n",
        "  for event in events:\n",
        "    total += event['guests']\n",
        "  return float(total)\n",
        "\n",
        "# Get the number of events from the user\n",
        "num_events = int(input(\"Enter the number of events: \"))\n",
        "\n",
        "# Create an empty list to store the events\n",
        "events = []\n",
        "\n",
        "# Get the number of guests for each event from the user\n",
        "for i in range(num_events):\n",
        "  num_guests = int(input(f\"Enter the number of guests for event {i + 1}: \"))\n",
        "  events.append({'guests': num_guests})\n",
        "\n",
        "# Calculate and print the total number of guests\n",
        "print(total_guests(events))"
      ],
      "metadata": {
        "colab": {
          "base_uri": "https://localhost:8080/"
        },
        "id": "HQOGSpJlBqKX",
        "outputId": "1ab3f01c-a59e-434b-cec2-522146faf6e7"
      },
      "execution_count": 27,
      "outputs": [
        {
          "output_type": "stream",
          "name": "stdout",
          "text": [
            "Enter the number of events: 5\n",
            "Enter the number of guests for event 1: 50\n",
            "Enter the number of guests for event 2: 60\n",
            "Enter the number of guests for event 3: 50\n",
            "Enter the number of guests for event 4: 60\n",
            "Enter the number of guests for event 5: 50\n",
            "270.0\n"
          ]
        }
      ]
    },
    {
      "cell_type": "code",
      "source": [
        "Task 4:"
      ],
      "metadata": {
        "id": "5GCWGDDlD2QX"
      },
      "execution_count": null,
      "outputs": []
    },
    {
      "cell_type": "code",
      "source": [
        "def factorial(n):\n",
        "  n = float(n)\n",
        "  if n == 0:\n",
        "    return 1.0\n",
        "  else:\n",
        "    return n * factorial(n - 1)\n",
        "\n",
        "def fibonacci(n):\n",
        "  if n <= 1:\n",
        "    return n\n",
        "  else:\n",
        "    return fibonacci(n - 1) + fibonacci(n - 2)\n",
        "\n",
        "def total_guests(events):\n",
        "  total = 0\n",
        "  for event in events:\n",
        "    total += event['guests']\n",
        "  return float(total)\n",
        "\n",
        "def main():\n",
        "  #number of events from the user\n",
        "  num_events = int(input(\"Enter the number of events: \"))\n",
        "\n",
        "  #to store the events\n",
        "  events = []\n",
        "\n",
        "  #number of guests for each event from the user\n",
        "  for i in range(num_events):\n",
        "    num_guests = int(input(f\"Enter the number of guests for event {i + 1}: \"))\n",
        "    events.append({'guests': num_guests})\n",
        "\n",
        "  #Calculate and print the total number of guests\n",
        "  total_guests_count = total_guests(events)\n",
        "  print(f\"Total number of guests across all events: {total_guests_count}\")\n",
        "\n",
        "  # Calculate and display seating arrangements and priorities for each event using fibonacci\n",
        "  for i, event in enumerate(events):\n",
        "    num_guests = event['guests']\n",
        "    seating_arrangements = factorial(num_guests)\n",
        "    priority = fibonacci(i + 1)\n",
        "\n",
        "    print(f\"\\nEvent {i + 1}:\")\n",
        "    print(f\"  Number of guests: {num_guests}\")\n",
        "    print(f\"  Possible seating arrangements: {seating_arrangements}\")\n",
        "    print(f\"  Priority: {priority}\")\n",
        "\n",
        "if __name__ == \"__main__\":\n",
        "  main()"
      ],
      "metadata": {
        "colab": {
          "base_uri": "https://localhost:8080/"
        },
        "id": "DUibRP-oEreP",
        "outputId": "30505100-9381-46c1-919e-b8b593ff6f98"
      },
      "execution_count": 35,
      "outputs": [
        {
          "output_type": "stream",
          "name": "stdout",
          "text": [
            "Enter the number of events: 5\n",
            "Enter the number of guests for event 1: 50\n",
            "Enter the number of guests for event 2: 60\n",
            "Enter the number of guests for event 3: 50\n",
            "Enter the number of guests for event 4: 60\n",
            "Enter the number of guests for event 5: 50\n",
            "Total number of guests across all events: 270.0\n",
            "\n",
            "Event 1:\n",
            "  Number of guests: 50\n",
            "  Possible seating arrangements: 3.0414093201713376e+64\n",
            "  Priority: 1\n",
            "\n",
            "Event 2:\n",
            "  Number of guests: 60\n",
            "  Possible seating arrangements: 8.320987112741392e+81\n",
            "  Priority: 1\n",
            "\n",
            "Event 3:\n",
            "  Number of guests: 50\n",
            "  Possible seating arrangements: 3.0414093201713376e+64\n",
            "  Priority: 2\n",
            "\n",
            "Event 4:\n",
            "  Number of guests: 60\n",
            "  Possible seating arrangements: 8.320987112741392e+81\n",
            "  Priority: 3\n",
            "\n",
            "Event 5:\n",
            "  Number of guests: 50\n",
            "  Possible seating arrangements: 3.0414093201713376e+64\n",
            "  Priority: 5\n"
          ]
        }
      ]
    },
    {
      "cell_type": "code",
      "source": [
        "def main():\n",
        "  #number of events from the user\n",
        "  num_events = int(input(\"Enter the number of events: \"))\n",
        "\n",
        "  #to store the events\n",
        "  events = []\n",
        "\n",
        "  #number of guests for each event from the user\n",
        "  for i in range(num_events):\n",
        "    num_guests = int(input(f\"Enter the number of guests for event {i + 1}: \"))\n",
        "    events.append({'guests': num_guests})\n",
        "\n",
        "  #Calculate and print the total number of guests\n",
        "  total_guests_count = total_guests(events)\n",
        "  print(f\"Total number of guests across all events: {total_guests_count}\")\n",
        "\n",
        "  # Calculate and display seating arrangements and priorities for each event using fibonacci\n",
        "  for i, event in enumerate(events):\n",
        "    num_guests = event['guests']\n",
        "    seating_arrangements = factorial(num_guests)\n",
        "    priority = fibonacci(i + 1)\n",
        "\n",
        "    print(f\"\\nEvent {i + 1}:\")\n",
        "    print(f\"  Number of guests: {num_guests}\")\n",
        "    print(f\"  Possible seating arrangements: {seating_arrangements}\")\n",
        "    print(f\"  Priority: {priority}\")\n",
        "\n",
        "if __name__ == \"__main__\":\n",
        "  main()"
      ],
      "metadata": {
        "colab": {
          "base_uri": "https://localhost:8080/"
        },
        "id": "FVW2kTcJGFYP",
        "outputId": "38c9dcd6-ebb5-4701-ad5f-9614cd313a32"
      },
      "execution_count": 37,
      "outputs": [
        {
          "output_type": "stream",
          "name": "stdout",
          "text": [
            "Enter the number of events: 5\n",
            "Enter the number of guests for event 1: 50\n",
            "Enter the number of guests for event 2: 60\n",
            "Enter the number of guests for event 3: 50\n",
            "Enter the number of guests for event 4: 60\n",
            "Enter the number of guests for event 5: 50\n",
            "Total number of guests across all events: 270.0\n",
            "\n",
            "Event 1:\n",
            "  Number of guests: 50\n",
            "  Possible seating arrangements: 30414093201713378043612608166064768844377641568960512000000000000\n",
            "  Priority: 1\n",
            "\n",
            "Event 2:\n",
            "  Number of guests: 60\n",
            "  Possible seating arrangements: 8320987112741390144276341183223364380754172606361245952449277696409600000000000000\n",
            "  Priority: 1\n",
            "\n",
            "Event 3:\n",
            "  Number of guests: 50\n",
            "  Possible seating arrangements: 30414093201713378043612608166064768844377641568960512000000000000\n",
            "  Priority: 2\n",
            "\n",
            "Event 4:\n",
            "  Number of guests: 60\n",
            "  Possible seating arrangements: 8320987112741390144276341183223364380754172606361245952449277696409600000000000000\n",
            "  Priority: 3\n",
            "\n",
            "Event 5:\n",
            "  Number of guests: 50\n",
            "  Possible seating arrangements: 30414093201713378043612608166064768844377641568960512000000000000\n",
            "  Priority: 5\n"
          ]
        }
      ]
    }
  ]
}