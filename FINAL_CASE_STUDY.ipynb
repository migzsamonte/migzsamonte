{
  "nbformat": 4,
  "nbformat_minor": 0,
  "metadata": {
    "colab": {
      "provenance": [],
      "toc_visible": true
    },
    "kernelspec": {
      "name": "python3",
      "display_name": "Python 3"
    },
    "language_info": {
      "name": "python"
    }
  },
  "cells": [
    {
      "cell_type": "markdown",
      "source": [
        "#Import and displaying shape and rows"
      ],
      "metadata": {
        "id": "YMw3iP1xn0--"
      }
    },
    {
      "cell_type": "code",
      "execution_count": null,
      "metadata": {
        "colab": {
          "base_uri": "https://localhost:8080/"
        },
        "id": "-t_e3FhiUN_S",
        "outputId": "8cb36dde-ce5d-417c-b994-fe8cefbd6b18"
      },
      "outputs": [
        {
          "output_type": "stream",
          "name": "stdout",
          "text": [
            "(8807, 12)\n",
            "========================================================\n",
            "  show_id     type                  title         director  \\\n",
            "0      s1    Movie   Dick Johnson Is Dead  Kirsten Johnson   \n",
            "1      s2  TV Show          Blood & Water              NaN   \n",
            "2      s3  TV Show              Ganglands  Julien Leclercq   \n",
            "3      s4  TV Show  Jailbirds New Orleans              NaN   \n",
            "4      s5  TV Show           Kota Factory              NaN   \n",
            "\n",
            "                                                cast        country  \\\n",
            "0                                                NaN  United States   \n",
            "1  Ama Qamata, Khosi Ngema, Gail Mabalane, Thaban...   South Africa   \n",
            "2  Sami Bouajila, Tracy Gotoas, Samuel Jouy, Nabi...            NaN   \n",
            "3                                                NaN            NaN   \n",
            "4  Mayur More, Jitendra Kumar, Ranjan Raj, Alam K...          India   \n",
            "\n",
            "           date_added  release_year rating   duration  \\\n",
            "0  September 25, 2021          2020  PG-13     90 min   \n",
            "1  September 24, 2021          2021  TV-MA  2 Seasons   \n",
            "2  September 24, 2021          2021  TV-MA   1 Season   \n",
            "3  September 24, 2021          2021  TV-MA   1 Season   \n",
            "4  September 24, 2021          2021  TV-MA  2 Seasons   \n",
            "\n",
            "                                           listed_in  \\\n",
            "0                                      Documentaries   \n",
            "1    International TV Shows, TV Dramas, TV Mysteries   \n",
            "2  Crime TV Shows, International TV Shows, TV Act...   \n",
            "3                             Docuseries, Reality TV   \n",
            "4  International TV Shows, Romantic TV Shows, TV ...   \n",
            "\n",
            "                                         description  \n",
            "0  As her father nears the end of his life, filmm...  \n",
            "1  After crossing paths at a party, a Cape Town t...  \n",
            "2  To protect his family from a powerful drug lor...  \n",
            "3  Feuds, flirtations and toilet talk go down amo...  \n",
            "4  In a city of coaching centers known to train I...  \n",
            "========================================================\n",
            "     show_id     type        title         director  \\\n",
            "8802   s8803    Movie       Zodiac    David Fincher   \n",
            "8803   s8804  TV Show  Zombie Dumb              NaN   \n",
            "8804   s8805    Movie   Zombieland  Ruben Fleischer   \n",
            "8805   s8806    Movie         Zoom     Peter Hewitt   \n",
            "8806   s8807    Movie       Zubaan      Mozez Singh   \n",
            "\n",
            "                                                   cast        country  \\\n",
            "8802  Mark Ruffalo, Jake Gyllenhaal, Robert Downey J...  United States   \n",
            "8803                                                NaN            NaN   \n",
            "8804  Jesse Eisenberg, Woody Harrelson, Emma Stone, ...  United States   \n",
            "8805  Tim Allen, Courteney Cox, Chevy Chase, Kate Ma...  United States   \n",
            "8806  Vicky Kaushal, Sarah-Jane Dias, Raaghav Chanan...          India   \n",
            "\n",
            "             date_added  release_year rating   duration  \\\n",
            "8802  November 20, 2019          2007      R    158 min   \n",
            "8803       July 1, 2019          2018  TV-Y7  2 Seasons   \n",
            "8804   November 1, 2019          2009      R     88 min   \n",
            "8805   January 11, 2020          2006     PG     88 min   \n",
            "8806      March 2, 2019          2015  TV-14    111 min   \n",
            "\n",
            "                                           listed_in  \\\n",
            "8802                  Cult Movies, Dramas, Thrillers   \n",
            "8803          Kids' TV, Korean TV Shows, TV Comedies   \n",
            "8804                         Comedies, Horror Movies   \n",
            "8805              Children & Family Movies, Comedies   \n",
            "8806  Dramas, International Movies, Music & Musicals   \n",
            "\n",
            "                                            description  \n",
            "8802  A political cartoonist, a crime reporter and a...  \n",
            "8803  While living alone in a spooky town, a young g...  \n",
            "8804  Looking to survive in a world taken over by zo...  \n",
            "8805  Dragged from civilian life, a former superhero...  \n",
            "8806  A scrappy but poor boy worms his way into a ty...  \n",
            "========================================================\n",
            "Index(['show_id', 'type', 'title', 'director', 'cast', 'country', 'date_added',\n",
            "       'release_year', 'rating', 'duration', 'listed_in', 'description'],\n",
            "      dtype='object')\n"
          ]
        }
      ],
      "source": [
        "import pandas as pd\n",
        "\n",
        "df = pd.read_csv('sample_data/netflix_titles.csv')\n",
        "\n",
        "print(df.shape)\n",
        "print(\"========================================================\")\n",
        "print(df.head())\n",
        "print(\"========================================================\")\n",
        "print(df.tail())\n",
        "print(\"========================================================\")\n",
        "print(df.columns)"
      ]
    },
    {
      "cell_type": "markdown",
      "source": [
        "#Filled null entries with placeholder \"unknown\""
      ],
      "metadata": {
        "id": "-Axh4Tpxn5r9"
      }
    },
    {
      "cell_type": "code",
      "source": [
        "df_ukn = df.fillna('Unknown')"
      ],
      "metadata": {
        "id": "sT1KKF2hmKeb"
      },
      "execution_count": null,
      "outputs": []
    },
    {
      "cell_type": "markdown",
      "source": [
        "#Changed data type"
      ],
      "metadata": {
        "id": "hgMngsUJn-IJ"
      }
    },
    {
      "cell_type": "code",
      "source": [
        "df['date_added'] = pd.to_datetime(df['date_added'], errors='coerce')\n",
        "print(df.dtypes)"
      ],
      "metadata": {
        "colab": {
          "base_uri": "https://localhost:8080/"
        },
        "id": "2JCcuRHnmYi4",
        "outputId": "0a848923-95b4-48e6-81eb-cd3e1d559e6c"
      },
      "execution_count": null,
      "outputs": [
        {
          "output_type": "stream",
          "name": "stdout",
          "text": [
            "show_id                       object\n",
            "type                          object\n",
            "title                         object\n",
            "director                      object\n",
            "cast                          object\n",
            "country                       object\n",
            "date_added            datetime64[ns]\n",
            "release_year                   int64\n",
            "rating                        object\n",
            "duration                      object\n",
            "listed_in                     object\n",
            "description                   object\n",
            "duration_num                 float64\n",
            "duration_unit                 object\n",
            "main_genre                    object\n",
            "year_added                   float64\n",
            "release_to_add_lag           float64\n",
            "dtype: object\n"
          ]
        }
      ]
    },
    {
      "cell_type": "markdown",
      "source": [
        "#Count of movie and tv shows, ratings, and the year with most shows released"
      ],
      "metadata": {
        "id": "uOSuLbACoCAL"
      }
    },
    {
      "cell_type": "code",
      "source": [
        "print(df['type'].value_counts())\n",
        "\n",
        "print(\"========================================================\")\n",
        "\n",
        "print(df['rating'].value_counts().head(5))\n",
        "\n",
        "print(\"========================================================\")\n",
        "\n",
        "print(df['release_year'].value_counts().idxmax())"
      ],
      "metadata": {
        "colab": {
          "base_uri": "https://localhost:8080/"
        },
        "id": "niU1gdh5mb_t",
        "outputId": "7150d008-e237-4c64-ee26-177949ec8794"
      },
      "execution_count": null,
      "outputs": [
        {
          "output_type": "stream",
          "name": "stdout",
          "text": [
            "type\n",
            "Movie      6131\n",
            "TV Show    2676\n",
            "Name: count, dtype: int64\n",
            "========================================================\n",
            "rating\n",
            "TV-MA    3207\n",
            "TV-14    2160\n",
            "TV-PG     863\n",
            "R         799\n",
            "PG-13     490\n",
            "Name: count, dtype: int64\n",
            "========================================================\n",
            "2018\n"
          ]
        }
      ]
    },
    {
      "cell_type": "markdown",
      "source": [
        "#Changed the type for duration to get length and number of seasons"
      ],
      "metadata": {
        "id": "EOiiZ9G5nrv5"
      }
    },
    {
      "cell_type": "code",
      "source": [
        "df[['duration_num', 'duration_unit']] = df['duration'].str.extract(r'(\\d+)\\s*(\\w+)')\n",
        "df['duration_num'] = pd.to_numeric(df['duration_num'], errors='coerce')\n",
        "\n",
        "print(df[df['type'] == 'Movie']['duration_num'].mean())\n",
        "\n",
        "print(df[df['type'] == 'TV Show']['duration_num'].mean())"
      ],
      "metadata": {
        "colab": {
          "base_uri": "https://localhost:8080/"
        },
        "id": "ybYFXmtSnT_G",
        "outputId": "1d4ea4b0-9a88-4948-8cc8-3e18b24248d9"
      },
      "execution_count": null,
      "outputs": [
        {
          "output_type": "stream",
          "name": "stdout",
          "text": [
            "99.57718668407311\n",
            "1.764947683109118\n"
          ]
        }
      ]
    },
    {
      "cell_type": "markdown",
      "source": [
        "#Average release year for each genre"
      ],
      "metadata": {
        "id": "wE2z5tLuoSew"
      }
    },
    {
      "cell_type": "code",
      "source": [
        "df['main_genre'] = df['listed_in'].str.split(',').str[0].str.strip()\n",
        "\n",
        "avg_years = df.groupby('main_genre')['release_year'].mean()\n",
        "\n",
        "avg_years_as_date = pd.to_datetime(avg_years.astype(int), format='%Y')\n",
        "\n",
        "genre_release_summary = pd.DataFrame({\n",
        "    'average_release_year_float': avg_years,\n",
        "    'average_release_date': avg_years_as_date\n",
        "}).sort_values(by='average_release_year_float', ascending=False)\n",
        "\n",
        "print(genre_release_summary)"
      ],
      "metadata": {
        "colab": {
          "base_uri": "https://localhost:8080/"
        },
        "id": "joa4Lb06oT8g",
        "outputId": "531366bd-4ef2-411a-a32d-9d8d2b690b6c"
      },
      "execution_count": null,
      "outputs": [
        {
          "output_type": "stream",
          "name": "stdout",
          "text": [
            "                              average_release_year_float average_release_date\n",
            "main_genre                                                                   \n",
            "TV Horror                                    2018.090909           2018-01-01\n",
            "Stand-Up Comedy & Talk Shows                 2018.029412           2018-01-01\n",
            "LGBTQ Movies                                 2018.000000           2018-01-01\n",
            "Crime TV Shows                               2017.879699           2017-01-01\n",
            "Docuseries                                   2017.805430           2017-01-01\n",
            "Romantic Movies                              2017.666667           2017-01-01\n",
            "Reality TV                                   2017.616667           2017-01-01\n",
            "TV Action & Adventure                        2017.575000           2017-01-01\n",
            "Anime Features                               2017.380952           2017-01-01\n",
            "Romantic TV Shows                            2017.343750           2017-01-01\n",
            "Sports Movies                                2017.000000           2017-01-01\n",
            "TV Sci-Fi & Fantasy                          2017.000000           2017-01-01\n",
            "TV Comedies                                  2016.925000           2016-01-01\n",
            "International TV Shows                       2016.799742           2016-01-01\n",
            "Spanish-Language TV Shows                    2016.500000           2016-01-01\n",
            "Music & Musicals                             2016.444444           2016-01-01\n",
            "TV Dramas                                    2016.313433           2016-01-01\n",
            "Documentaries                                2016.225573           2016-01-01\n",
            "Kids' TV                                     2016.121134           2016-01-01\n",
            "British TV Shows                             2015.944664           2015-01-01\n",
            "International Movies                         2015.664062           2015-01-01\n",
            "Stand-Up Comedy                              2015.616766           2015-01-01\n",
            "Horror Movies                                2015.294545           2015-01-01\n",
            "Independent Movies                           2015.150000           2015-01-01\n",
            "Anime Series                                 2015.017045           2015-01-01\n",
            "Sci-Fi & Fantasy                             2014.923077           2014-01-01\n",
            "Movies                                       2014.473684           2014-01-01\n",
            "Children & Family Movies                     2014.076033           2014-01-01\n",
            "Dramas                                       2013.982500           2013-01-01\n",
            "Thrillers                                    2013.338462           2013-01-01\n",
            "Comedies                                     2013.012397           2013-01-01\n",
            "Action & Adventure                           2009.538999           2009-01-01\n",
            "Classic & Cult TV                            2003.863636           2003-01-01\n",
            "TV Shows                                     1999.375000           1999-01-01\n",
            "Cult Movies                                  1994.166667           1994-01-01\n",
            "Classic Movies                               1973.437500           1973-01-01\n"
          ]
        }
      ]
    },
    {
      "cell_type": "markdown",
      "source": [
        "#Temporal Trends"
      ],
      "metadata": {
        "id": "WQzrfviNp1Lm"
      }
    },
    {
      "cell_type": "code",
      "source": [
        "df['year_added'] = df['date_added'].dt.year\n",
        "df['release_to_add_lag'] = df['year_added'] - df['release_year']\n",
        "\n",
        "print(df['release_to_add_lag'].describe())"
      ],
      "metadata": {
        "colab": {
          "base_uri": "https://localhost:8080/"
        },
        "id": "tx3Q4vj-qGyM",
        "outputId": "06d98073-856a-4bb9-a994-98285453d82b"
      },
      "execution_count": null,
      "outputs": [
        {
          "output_type": "stream",
          "name": "stdout",
          "text": [
            "count    8709.000000\n",
            "mean        4.690894\n",
            "std         8.792208\n",
            "min        -3.000000\n",
            "25%         0.000000\n",
            "50%         1.000000\n",
            "75%         5.000000\n",
            "max        93.000000\n",
            "Name: release_to_add_lag, dtype: float64\n"
          ]
        }
      ]
    },
    {
      "cell_type": "markdown",
      "source": [
        "###for the count above the average is 4.69 years before netflix adds the show"
      ],
      "metadata": {
        "id": "Pjk6foFUqnqB"
      }
    },
    {
      "cell_type": "markdown",
      "source": [
        "#Rating vs Type"
      ],
      "metadata": {
        "id": "2DbhmFlpqvjH"
      }
    },
    {
      "cell_type": "code",
      "source": [
        "print(pd.crosstab(df['type'], df['rating']))"
      ],
      "metadata": {
        "colab": {
          "base_uri": "https://localhost:8080/"
        },
        "id": "PlDyk5BSq7SI",
        "outputId": "cbcc0b6b-f20e-4679-8047-5c652e7be843"
      },
      "execution_count": null,
      "outputs": [
        {
          "output_type": "stream",
          "name": "stdout",
          "text": [
            "rating   66 min  74 min  84 min   G  NC-17  NR   PG  PG-13    R  TV-14  TV-G  \\\n",
            "type                                                                           \n",
            "Movie         1       1       1  41      3  75  287    490  797   1427   126   \n",
            "TV Show       0       0       0   0      0   5    0      0    2    733    94   \n",
            "\n",
            "rating   TV-MA  TV-PG  TV-Y  TV-Y7  TV-Y7-FV  UR  \n",
            "type                                              \n",
            "Movie     2062    540   131    139         5   3  \n",
            "TV Show   1145    323   176    195         1   0  \n"
          ]
        }
      ]
    },
    {
      "cell_type": "markdown",
      "source": [
        "#With rating \"R\" after 2020"
      ],
      "metadata": {
        "id": "8OeTf9RTrM5L"
      }
    },
    {
      "cell_type": "code",
      "source": [
        "filtered = df[(df['rating'] == 'R') & (df['date_added'] >= '2021-01-01')]\n",
        "print(len(filtered))"
      ],
      "metadata": {
        "colab": {
          "base_uri": "https://localhost:8080/"
        },
        "id": "mKz31nBZrR-4",
        "outputId": "47b5110e-ad02-4385-e9d1-83244affca4d"
      },
      "execution_count": null,
      "outputs": [
        {
          "output_type": "stream",
          "name": "stdout",
          "text": [
            "190\n"
          ]
        }
      ]
    },
    {
      "cell_type": "markdown",
      "source": [
        "#Average release of countries"
      ],
      "metadata": {
        "id": "HRsyJOWUrix1"
      }
    },
    {
      "cell_type": "code",
      "source": [
        "df['release_year'] = pd.to_datetime(df['release_year'], errors='coerce')\n",
        "print(df.groupby('country')['release_year'].mean())\n",
        "\n",
        "print(\"========================================================\")\n",
        "\n",
        "print(df.groupby(['year_added', 'type']).size().groupby(level=0).apply(lambda x: x / x.sum()))"
      ],
      "metadata": {
        "colab": {
          "base_uri": "https://localhost:8080/"
        },
        "id": "ooaq3AdSroG5",
        "outputId": "ac9ddd27-e4d2-4119-cc1b-61f3ac467d34"
      },
      "execution_count": null,
      "outputs": [
        {
          "output_type": "stream",
          "name": "stdout",
          "text": [
            "country\n",
            ", France, Algeria                                     1970-01-01 00:00:00.000002014\n",
            ", South Korea                                         1970-01-01 00:00:00.000002021\n",
            "Argentina                                             1970-01-01 00:00:00.000002016\n",
            "Argentina, Brazil, France, Poland, Germany, Denmark   1970-01-01 00:00:00.000002017\n",
            "Argentina, Chile                                      1970-01-01 00:00:00.000002011\n",
            "                                                                   ...             \n",
            "Venezuela                                             1970-01-01 00:00:00.000002017\n",
            "Venezuela, Colombia                                   1970-01-01 00:00:00.000002007\n",
            "Vietnam                                               1970-01-01 00:00:00.000002017\n",
            "West Germany                                          1970-01-01 00:00:00.000001977\n",
            "Zimbabwe                                              1970-01-01 00:00:00.000002017\n",
            "Name: release_year, Length: 748, dtype: datetime64[ns]\n",
            "========================================================\n",
            "year_added                     year_added                     type   \n",
            "1970-01-01 00:00:00.000002008  1970-01-01 00:00:00.000002008  Movie      0.500000\n",
            "                                                              TV Show    0.500000\n",
            "1970-01-01 00:00:00.000002009  1970-01-01 00:00:00.000002009  Movie      1.000000\n",
            "1970-01-01 00:00:00.000002010  1970-01-01 00:00:00.000002010  Movie      1.000000\n",
            "1970-01-01 00:00:00.000002011  1970-01-01 00:00:00.000002011  Movie      1.000000\n",
            "1970-01-01 00:00:00.000002012  1970-01-01 00:00:00.000002012  Movie      1.000000\n",
            "1970-01-01 00:00:00.000002013  1970-01-01 00:00:00.000002013  Movie      0.600000\n",
            "                                                              TV Show    0.400000\n",
            "1970-01-01 00:00:00.000002014  1970-01-01 00:00:00.000002014  Movie      0.826087\n",
            "                                                              TV Show    0.173913\n",
            "1970-01-01 00:00:00.000002015  1970-01-01 00:00:00.000002015  Movie      0.767123\n",
            "                                                              TV Show    0.232877\n",
            "1970-01-01 00:00:00.000002016  1970-01-01 00:00:00.000002016  Movie      0.605263\n",
            "                                                              TV Show    0.394737\n",
            "1970-01-01 00:00:00.000002017  1970-01-01 00:00:00.000002017  Movie      0.720790\n",
            "                                                              TV Show    0.279210\n",
            "1970-01-01 00:00:00.000002018  1970-01-01 00:00:00.000002018  Movie      0.761231\n",
            "                                                              TV Show    0.238769\n",
            "1970-01-01 00:00:00.000002019  1970-01-01 00:00:00.000002019  Movie      0.712356\n",
            "                                                              TV Show    0.287644\n",
            "1970-01-01 00:00:00.000002020  1970-01-01 00:00:00.000002020  Movie      0.683706\n",
            "                                                              TV Show    0.316294\n",
            "1970-01-01 00:00:00.000002021  1970-01-01 00:00:00.000002021  Movie      0.662884\n",
            "                                                              TV Show    0.337116\n",
            "dtype: float64\n"
          ]
        }
      ]
    }
  ]
}