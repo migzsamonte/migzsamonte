{
  "nbformat": 4,
  "nbformat_minor": 0,
  "metadata": {
    "colab": {
      "provenance": [],
      "authorship_tag": "ABX9TyMtb/9Vg/F43A7xbGrX4XIG",
      "include_colab_link": true
    },
    "kernelspec": {
      "name": "python3",
      "display_name": "Python 3"
    },
    "language_info": {
      "name": "python"
    }
  },
  "cells": [
    {
      "cell_type": "markdown",
      "metadata": {
        "id": "view-in-github",
        "colab_type": "text"
      },
      "source": [
        "<a href=\"https://colab.research.google.com/github/migzsamonte/migzsamonte/blob/main/HOA_2_Control_Structures.ipynb\" target=\"_parent\"><img src=\"https://colab.research.google.com/assets/colab-badge.svg\" alt=\"Open In Colab\"/></a>"
      ]
    },
    {
      "cell_type": "code",
      "source": [
        "number = int(input(\"Enter your number\"))\n",
        "n = int(input(\"Test divisibility by\"))\n",
        "\n",
        "i = number%n\n",
        "\n",
        "if i != 0:\n",
        "    print (\"The number \",number,\" is not divisible by \",n,\"\\n\")\n",
        "i = number%n\n",
        "number = int(input(\"Enter your number\"))\n",
        "n = int(input(\"Test divisibility by\"))\n",
        "\n",
        "i = number%n\n",
        "\n",
        "if i != 0:\n",
        "    print (\"The number \",number,\" is not divisible by \",n,\"\\n\")\n",
        "i = number%n\n",
        "\n",
        "if i != 0:\n",
        "    print (\"The number \",number,\" is not divisible by \",n,\"\\n\")"
      ],
      "metadata": {
        "colab": {
          "base_uri": "https://localhost:8080/"
        },
        "id": "eg2zJUDnB0xn",
        "outputId": "6371d7dc-4fd0-4d11-f867-31e35f8c397f"
      },
      "execution_count": 42,
      "outputs": [
        {
          "output_type": "stream",
          "name": "stdout",
          "text": [
            "Enter your number10\n",
            "Test divisibility by20\n",
            "The number  10  is not divisible by  20 \n",
            "\n",
            "Enter your number10\n",
            "Test divisibility by20\n",
            "The number  10  is not divisible by  20 \n",
            "\n",
            "The number  10  is not divisible by  20 \n",
            "\n"
          ]
        }
      ]
    },
    {
      "cell_type": "code",
      "source": [
        "hidden = \"Mypasscode\"\n",
        "\n",
        "password = input(\"Enter your password: \")\n",
        "hidden = \"Mypasscode\"\n",
        "\n",
        "if password == hidden:\n",
        "    print(\"You entered the right password\\n\")\n",
        "else:\n",
        "    print(\"Wrong password!!\\n\")"
      ],
      "metadata": {
        "colab": {
          "base_uri": "https://localhost:8080/"
        },
        "id": "PJ0nbuDID0YF",
        "outputId": "dab18818-fb79-4932-d591-f6813a9355e0"
      },
      "execution_count": 46,
      "outputs": [
        {
          "output_type": "stream",
          "name": "stdout",
          "text": [
            "Enter your password: Mypasscode\n",
            "You entered the right password\n",
            "\n"
          ]
        }
      ]
    },
    {
      "cell_type": "code",
      "source": [
        "names = [\"Migs\", \"Miggy\", \"Migz\"]\n",
        "m = 0\n",
        "\n",
        "for name in names:\n",
        "    m += 1\n",
        "    print (\"The name number\", m, \"in the list is\", name)\n"
      ],
      "metadata": {
        "colab": {
          "base_uri": "https://localhost:8080/"
        },
        "id": "3OoomCFLEW0B",
        "outputId": "439150da-2eb3-4fb8-ba8c-bd0821f49e00"
      },
      "execution_count": 50,
      "outputs": [
        {
          "output_type": "stream",
          "name": "stdout",
          "text": [
            "The name number 1 in the list is Migs\n",
            "The name number 2 in the list is Miggy\n",
            "The name number 3 in the list is Migz\n"
          ]
        }
      ]
    },
    {
      "cell_type": "code",
      "source": [
        "N = int(input(\"Enter the last integer considered \"))\n",
        "Sum = 0\n",
        "for i in range(0, N+1, 1):\n",
        "    Sum += i**2\n",
        "print (\"The sum of the squares between 0 and\", N, \"is\", Sum)\n"
      ],
      "metadata": {
        "colab": {
          "base_uri": "https://localhost:8080/"
        },
        "id": "FN9vZcu_E3gG",
        "outputId": "cf45c374-c077-48c7-b489-62b38a240a46"
      },
      "execution_count": 52,
      "outputs": [
        {
          "output_type": "stream",
          "name": "stdout",
          "text": [
            "Enter the last integer considered 6\n",
            "The sum of the squares between 0 and 6 is 91\n"
          ]
        }
      ]
    },
    {
      "cell_type": "code",
      "source": [
        "N = int(input(\"Enter N --> \"))\n",
        "print(\"Counting numbers from 0 to\", N, \"\\n\")\n",
        "i = 0\n",
        "while i < N+1:\n",
        "    print(i, \"\\n\")\n",
        "    i += 1\n",
        "    print (i, \"\\n\")\n",
        "    i += 1\n"
      ],
      "metadata": {
        "colab": {
          "base_uri": "https://localhost:8080/"
        },
        "id": "8aijTkGkFH0W",
        "outputId": "70675413-f557-46e0-bb1f-c9dbc4f5a407"
      },
      "execution_count": 57,
      "outputs": [
        {
          "output_type": "stream",
          "name": "stdout",
          "text": [
            "Enter N --> 5\n",
            "Counting numbers from 0 to 5 \n",
            "\n",
            "0 \n",
            "\n",
            "1 \n",
            "\n",
            "2 \n",
            "\n",
            "3 \n",
            "\n",
            "4 \n",
            "\n",
            "5 \n",
            "\n"
          ]
        }
      ]
    },
    {
      "cell_type": "code",
      "source": [
        "N = int(input(\"Enter N --> \"))\n",
        "for i in range(0, N+1, 1):\n",
        "    if i**2 == N:\n",
        "        break\n",
        "    else:\n",
        "        if i % 5 == 0:\n",
        "            continue\n",
        "        print (i, \"\\n\")\n"
      ],
      "metadata": {
        "colab": {
          "base_uri": "https://localhost:8080/"
        },
        "id": "G9vBxq2KFcFd",
        "outputId": "7c7ef8b5-66c2-49ac-8e95-7eb9f50959d4"
      },
      "execution_count": 59,
      "outputs": [
        {
          "output_type": "stream",
          "name": "stdout",
          "text": [
            "Enter N --> 5\n",
            "1 \n",
            "\n",
            "2 \n",
            "\n",
            "3 \n",
            "\n",
            "4 \n",
            "\n"
          ]
        }
      ]
    },
    {
      "cell_type": "code",
      "execution_count": null,
      "metadata": {
        "id": "VDM57TtQqZEF"
      },
      "outputs": [],
      "source": [
        "a = 6\n",
        "b = 15"
      ]
    },
    {
      "cell_type": "code",
      "source": [
        "a=b=15\n",
        "\n",
        "if a > b:\n",
        "  print(f\"{a} is greater than {b}.\")\n",
        "\n",
        "elif b > a:\n",
        "  print(f\"{b} is greater than {a}.\")\n",
        "\n",
        "else:\n",
        "  print(f\"{a} is not less than or greater than {b}.\")\n",
        "\n",
        "\n"
      ],
      "metadata": {
        "colab": {
          "base_uri": "https://localhost:8080/"
        },
        "id": "V_SG2ZT3rITa",
        "outputId": "47ac4e96-e989-4f26-e696-a7f5e5dc377d"
      },
      "execution_count": 18,
      "outputs": [
        {
          "output_type": "stream",
          "name": "stdout",
          "text": [
            "15 is not less than or greater than 15.\n"
          ]
        }
      ]
    },
    {
      "cell_type": "code",
      "source": [
        "a = int(input(\"A: \"))\n",
        "b = int(input(\"B: \"))\n",
        "c = int(input(\"C: \"))\n",
        "\n",
        "# The algorithim must work as follows:\n",
        "#check if a is the biggest\n",
        "if a > b and a > c:\n",
        "  print(f\"A({a}) is the largest value.\")\n",
        "elif b > a and b > c:\n",
        "  print(f\"B({b}) is the largest value.\")\n",
        "elif c > a and c > b:\n",
        "  print(f\"({c}) is the largest value.\")\n",
        "\n",
        ""
      ],
      "metadata": {
        "colab": {
          "base_uri": "https://localhost:8080/"
        },
        "id": "uVNkHz-xr5Xx",
        "outputId": "56edf1af-fc3c-47a5-c4c2-85683765d43e"
      },
      "execution_count": 22,
      "outputs": [
        {
          "output_type": "stream",
          "name": "stdout",
          "text": [
            "A: 10\n",
            "B: 20\n",
            "C: 30\n",
            "(30) is the largest value.\n"
          ]
        }
      ]
    },
    {
      "cell_type": "code",
      "source": [
        "for i in range(0, 11):\n",
        "  print(i)"
      ],
      "metadata": {
        "colab": {
          "base_uri": "https://localhost:8080/"
        },
        "id": "L_kI2jaLthIz",
        "outputId": "89bbf10a-1a77-4ce5-dca1-a76211487b32"
      },
      "execution_count": 4,
      "outputs": [
        {
          "output_type": "stream",
          "name": "stdout",
          "text": [
            "0\n",
            "1\n",
            "2\n",
            "3\n",
            "4\n",
            "5\n",
            "6\n",
            "7\n",
            "8\n",
            "9\n",
            "10\n"
          ]
        }
      ]
    },
    {
      "cell_type": "code",
      "source": [],
      "metadata": {
        "id": "kwvjUfi7y1fo"
      },
      "execution_count": null,
      "outputs": []
    },
    {
      "cell_type": "code",
      "source": [
        "i = 1\n",
        "while i <= 10:\n",
        "  print(i)\n",
        "  i += 1"
      ],
      "metadata": {
        "colab": {
          "base_uri": "https://localhost:8080/"
        },
        "id": "ZBF6Pxa6uOT5",
        "outputId": "88179711-0e4b-4ea8-dddf-fcaab84f10d1"
      },
      "execution_count": 6,
      "outputs": [
        {
          "output_type": "stream",
          "name": "stdout",
          "text": [
            "1\n",
            "2\n",
            "3\n",
            "4\n",
            "5\n",
            "6\n",
            "7\n",
            "8\n",
            "9\n",
            "10\n"
          ]
        }
      ]
    },
    {
      "cell_type": "code",
      "source": [],
      "metadata": {
        "id": "zEq-atVyy2JY"
      },
      "execution_count": null,
      "outputs": []
    },
    {
      "cell_type": "code",
      "source": [
        "for i in students:\n",
        "  print(i)"
      ],
      "metadata": {
        "colab": {
          "base_uri": "https://localhost:8080/"
        },
        "id": "Dpa6xZxawv_K",
        "outputId": "6fcd14fc-af9b-49ca-db99-f69770680725"
      },
      "execution_count": 16,
      "outputs": [
        {
          "output_type": "stream",
          "name": "stdout",
          "text": [
            "Miguel\n",
            "Joshua\n",
            "Kousei\n"
          ]
        }
      ]
    },
    {
      "cell_type": "code",
      "source": [
        "print(list(range(len(students))))"
      ],
      "metadata": {
        "colab": {
          "base_uri": "https://localhost:8080/"
        },
        "id": "F6etn7frxDeY",
        "outputId": "a3b358a1-3937-4326-9d99-ccdc66ea2d14"
      },
      "execution_count": 17,
      "outputs": [
        {
          "output_type": "stream",
          "name": "stdout",
          "text": [
            "[0, 1, 2]\n"
          ]
        }
      ]
    },
    {
      "cell_type": "code",
      "source": [
        "students = [\"Miguel\", \"Joshua\", \"Kousei\"]\n",
        "print(len(students))\n",
        "\n",
        "for i in range(len(students)):\n",
        "  if i == \"Miguel\":\n",
        "      break\n",
        "  print(students[i])\n",
        "\n",
        "#continue the loop: will not print \"Miguel\"\n",
        "\n",
        "for i in range(len(students)):\n",
        "  if students[i] == \"Miguel\":\n",
        "    continue\n",
        "print(students[i])\n"
      ],
      "metadata": {
        "colab": {
          "base_uri": "https://localhost:8080/"
        },
        "id": "1Q8LGHzGuphC",
        "outputId": "4a46e1eb-ab2c-42d7-db5a-c801940c98a4"
      },
      "execution_count": 15,
      "outputs": [
        {
          "output_type": "stream",
          "name": "stdout",
          "text": [
            "3\n",
            "Miguel\n",
            "Joshua\n",
            "Kousei\n",
            "Kousei\n"
          ]
        }
      ]
    },
    {
      "cell_type": "markdown",
      "source": [
        "SUPPLEMENTARY ACTIVITY"
      ],
      "metadata": {
        "id": "GLnBWRyHF0t9"
      }
    },
    {
      "cell_type": "markdown",
      "source": [
        "Factorial Calculation\n"
      ],
      "metadata": {
        "id": "Oe-Qet_KGBF9"
      }
    },
    {
      "cell_type": "code",
      "source": [],
      "metadata": {
        "id": "owaLp_0r2Gbg"
      },
      "execution_count": null,
      "outputs": []
    },
    {
      "cell_type": "markdown",
      "source": [
        "Even/Odd Position Case Conversion"
      ],
      "metadata": {
        "id": "h_OIKtiLF65G"
      }
    },
    {
      "cell_type": "code",
      "source": [
        "word = input(\"Enter a word: \")\n",
        "transformed_word = \"\"\n",
        "\n",
        "for i, letter in enumerate(word):\n",
        "    if i % 2 == 0:\n",
        "        transformed_word += letter.upper()\n",
        "    else:\n",
        "        transformed_word += letter.lower()\n",
        "\n",
        "print(\"Transformed word:\", transformed_word)"
      ],
      "metadata": {
        "colab": {
          "base_uri": "https://localhost:8080/"
        },
        "id": "5r4de2VVy4ch",
        "outputId": "f8ef6e0a-44b0-4804-93b7-dd9eedc6fb7f"
      },
      "execution_count": 39,
      "outputs": [
        {
          "output_type": "stream",
          "name": "stdout",
          "text": [
            "Enter a word: malakastamanimarskpalkasitalaga\n",
            "Transformed word: MaLaKaStAmAnImArSkPaLkAsItAlAgA\n"
          ]
        }
      ]
    },
    {
      "cell_type": "markdown",
      "source": [
        "Caesar Cipher Exercises"
      ],
      "metadata": {
        "id": "RBXK_Wr7GKBW"
      }
    },
    {
      "cell_type": "code",
      "source": [],
      "metadata": {
        "id": "C3dR9WMB_YeO"
      },
      "execution_count": null,
      "outputs": []
    }
  ]
}